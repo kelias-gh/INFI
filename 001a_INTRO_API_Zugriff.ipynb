{
 "cells": [
  {
   "attachments": {},
   "cell_type": "markdown",
   "id": "ab6e1a2f",
   "metadata": {},
   "source": [
    "# A) API Zugriff im lokalen Netzwerk "
   ]
  },
  {
   "attachments": {},
   "cell_type": "markdown",
   "id": "9f193a61",
   "metadata": {
    "tags": []
   },
   "source": [
    "# A) Das sind die Inhalte:\n",
    "## Sensor- Werte auslesen und speichern\n",
    "1. request an das REST API senden und \"return-object\" analysieren\n",
    "2. dictionary mit json.loads aus dem \"return-object\" erzeugen\n",
    "3. dekodierte Sensor - Messwerte mit \"print\" ausgeben\n",
    "4. Messwerte als .json file ablegen\n",
    "5. Messwerte fortlaufend in einem .db file mitschreiben\n",
    "\n",
    "# B) Das ist dein Arbeitsauftrag: \n",
    "## ->Arbeitsaufgabe 1: \"Dummy - Werte speichern\"\n",
    "\n",
    "### Abgabe als Link zu deinem Github repository: \n",
    "1. initialisiere ein neues .git repository und lege das \"b_nachname_dummy_source\" - file darin ab. Der Source-Code soll nur die notwendigen Bestandteile enthalten, um das geforderte .json und .db file anzulegen. Bitte kommentiere den Source-Code und alle individuellen Anpassungen! Füge einen Screenshot des erzeugten JSON - Files und einen Screenshot der geöffneten Tabelle (z.B. in DB - Browser) genau dort ein, wo sie im Source-Code erzeugt werden.\n",
    "2. speichere die individuell angepassten dummy - Werte in einem .json File \"b_nachname_dummywerte.json\"\n",
    "3. speichere die individuell angepassten dummy - Werte in einer sqlite Datenbank \"b_nachname_dummywerte.db\"\n",
    "4. füge das .json und .db file deinem git repository hinzu und führe ein commit durch. \"-m \"Arbeitsaufgabe Teil 1 Nachname\"\n",
    "\n",
    "## ->Arbeitsaufgabe 2: \"Sensor - Werte speichern\"\n",
    "Das Abfrageintervall ist eine Minute. Die Dauer der Aufzeichnung ist vor dem Start der Aufzeichnung\n",
    "individuell mit dem Lehrer zu vereinbaren.\n",
    "\n",
    "### TODO: *Ersetze die \"dummy-Werte\" durch echte Sensordaten. Speichere die Werte für Luftfeuchtigkeit, Temperatur und Helligkeit:*\n",
    "### Abgabe als Link zu deinem Github repository: \n",
    "1. initialisiere ein neues .git repository und lege das \"source\" - file darin ab. Der Source-Code soll im Unterschied zu Arbeitsaufgabe 1 alle Code-Bestandteile von A1) bis A5) in ausgeführter Form beinhalten und zusätzlich die erforderlichen individuellen Anpassungen inkl. deiner Kommentare. Bitte füge einen Screenshot des erzeugten JSON - Files und einen Screenshot der geöffneten Tabelle (z.B. in DB - Browser) genau dort ein, wo sie im Source-Code erzeugt werden.\n",
    "2. speichere die Sensor - Werte in einem .json File \"b_nachname_sensorwerte.json\"\n",
    "3. speichere die Sensor - Werte in einer sqlite Datenbank \"b_nachname_sensorwerte.db\"\n",
    "4. füge das .json und .db file deinem git repository hinzu und führe ein commit durch. \"-m \"Arbeitsaufgabe Teil 2 Nachname\"\n",
    "\n",
    "\n",
    "\n",
    " "
   ]
  },
  {
   "attachments": {},
   "cell_type": "markdown",
   "id": "4f824aa7",
   "metadata": {},
   "source": [
    "# Input zu Arbeitsaufgabe 1 und 2\n",
    "### ACHTUNG: Die dummy-Werte für Arbeitsaufgabe 1 müssen individuell z.B. mittels Zufallsgenerator erzeugt werden!\n",
    "### A1) request an das REST API senden und \"return-object\" analysieren"
   ]
  },
  {
   "cell_type": "code",
   "execution_count": 53,
   "id": "83a2253e",
   "metadata": {},
   "outputs": [],
   "source": [
    "import requests\n",
    "import json\n",
    "#Die Authentifizierung wird im lokalen Netzwerk noch nicht benötigt, aber im nächsten Schritt\n",
    "#from requests.auth import HTTPBasicAuth\n"
   ]
  },
  {
   "attachments": {},
   "cell_type": "markdown",
   "id": "3854a6e2",
   "metadata": {},
   "source": [
    "TODO: 1 Schritt: IP Adresse des Sensors identifizieren! Dazu das Programm \"Advanced IP Scanner \" installieren\n",
    "um die IP - Adressen aller Computer im Netzwerk abzufragen. \n",
    "Um einen geeigente IP - Range festzulegen, cmd starten - eigene IP Adresse (am Kabel abfragen) und IP - 100 bis IP + 100 scannen. \n",
    "Das Gerät ist ein Raspberry Pi und sollte im NW anhand des Namens entsprechend erkannt werden. "
   ]
  },
  {
   "cell_type": "code",
   "execution_count": 54,
   "id": "a9ad1046",
   "metadata": {},
   "outputs": [],
   "source": [
    "my_temp_data = 'http://192.168.1.100:8080/rest/items/ZWave_Node_005_Sensor_temperature'\n",
    "my_hum_data = 'http://192.168.1.100:8080/rest/items/ZWave_Node_005_Sensor_relative_humidity'\n",
    "my_uv_data = 'http://192.168.1.100:8080/rest/items/ZWave_Node_005_Sensor_ultraviolet'\n",
    "my_lum_data = 'http://192.168.1.100:8080/rest/items/ZWave_Node_005_Sensor_luminance'"
   ]
  },
  {
   "cell_type": "code",
   "execution_count": 55,
   "id": "417d79e4",
   "metadata": {},
   "outputs": [],
   "source": [
    "hum_value=requests.get(my_hum_data)\n",
    "temp_value=requests.get(my_temp_data)\n",
    "uv_value = requests.get(my_uv_data)\n",
    "lum_value = requests.get(my_lum_data)"
   ]
  },
  {
   "cell_type": "code",
   "execution_count": 58,
   "id": "9d65de22",
   "metadata": {},
   "outputs": [
    {
     "data": {
      "text/plain": [
       "b'{\"link\":\"http://192.168.1.100:8080/rest/items/ZWave_Node_005_Sensor_temperature\",\"state\":\"25.2 \\xc2\\xb0C\",\"stateDescription\":{\"pattern\":\"%.1f %unit%\",\"readOnly\":true,\"options\":[]},\"editable\":true,\"type\":\"Number:Temperature\",\"name\":\"ZWave_Node_005_Sensor_temperature\",\"label\":\"Sensor (temperature)\",\"category\":\"Temperature\",\"tags\":[\"Point\"],\"groupNames\":[]}'"
      ]
     },
     "execution_count": 58,
     "metadata": {},
     "output_type": "execute_result"
    }
   ],
   "source": [
    "hum_value.content\n",
    "temp_value.content\n",
    "uv_value.content\n",
    "lum_value.content"
   ]
  },
  {
   "cell_type": "code",
   "execution_count": 59,
   "id": "53b893b3",
   "metadata": {},
   "outputs": [
    {
     "name": "stdout",
     "output_type": "stream",
     "text": [
      "utf-8\n"
     ]
    }
   ],
   "source": [
    "print(hum_value.encoding)"
   ]
  },
  {
   "attachments": {},
   "cell_type": "markdown",
   "id": "e77216b9",
   "metadata": {
    "tags": []
   },
   "source": [
    "### A2) dictionary mit json.loads aus dem \"return-object\" erzeugen"
   ]
  },
  {
   "cell_type": "code",
   "execution_count": 60,
   "id": "632ac3aa",
   "metadata": {},
   "outputs": [
    {
     "name": "stdout",
     "output_type": "stream",
     "text": [
      "<class 'dict'>\n",
      "<class 'dict'>\n",
      "{'link': 'http://192.168.1.100:8080/rest/items/ZWave_Node_005_Sensor_relative_humidity', 'state': '39', 'stateDescription': {'pattern': '%.1f', 'readOnly': True, 'options': []}, 'editable': True, 'type': 'Number', 'name': 'ZWave_Node_005_Sensor_relative_humidity', 'label': 'Sensor (relative humidity)', 'category': 'Humidity', 'tags': ['Point'], 'groupNames': []}\n",
      "{'link': 'http://192.168.1.100:8080/rest/items/ZWave_Node_005_Sensor_temperature', 'state': '25.2 °C', 'stateDescription': {'pattern': '%.1f %unit%', 'readOnly': True, 'options': []}, 'editable': True, 'type': 'Number:Temperature', 'name': 'ZWave_Node_005_Sensor_temperature', 'label': 'Sensor (temperature)', 'category': 'Temperature', 'tags': ['Point'], 'groupNames': []}\n"
     ]
    }
   ],
   "source": [
    "# json.loads requires the decoded bytestring (which is a string) as argument and returns a python dictionary\n",
    "# .decode togethe with json.loads is optional\n",
    "print(type(json.loads(hum_value.content.decode(\"utf-8\"))))\n",
    "print(type(json.loads(temp_value.content.decode(\"utf-8\"))))\n",
    "print(type(json.loads(uv_value.content.decode(\"utf-8\"))))\n",
    "print(type(json.loads(lum_value.content.decode(\"utf-8\"))))\n",
    "\n",
    "hum_dict = json.loads(hum_value.content.decode(\"utf-8\"))\n",
    "temp_dict = json.loads(temp_value.content.decode(\"utf-8\"))\n",
    "uv_dict = json.loads(uv_value.content.decode(\"utf-8\"))\n",
    "lum_dict = json.loads(lum_value.content.decode(\"utf-8\"))\n",
    "\n",
    "print(hum_dict)\n",
    "print(temp_dict)"
   ]
  },
  {
   "attachments": {},
   "cell_type": "markdown",
   "id": "c7635eb4",
   "metadata": {
    "tags": []
   },
   "source": [
    "### A3) dekodierte Sensor - Messwerte mit \"print\" ausgeben"
   ]
  },
  {
   "cell_type": "code",
   "execution_count": 61,
   "id": "699a05c8",
   "metadata": {},
   "outputs": [
    {
     "name": "stdout",
     "output_type": "stream",
     "text": [
      "<class 'str'>\n",
      "{\"link\":\"http://192.168.1.100:8080/rest/items/ZWave_Node_005_Sensor_temperature\",\"state\":\"25.2 °C\",\"stateDescription\":{\"pattern\":\"%.1f %unit%\",\"readOnly\":true,\"options\":[]},\"editable\":true,\"type\":\"Number:Temperature\",\"name\":\"ZWave_Node_005_Sensor_temperature\",\"label\":\"Sensor (temperature)\",\"category\":\"Temperature\",\"tags\":[\"Point\"],\"groupNames\":[]}\n"
     ]
    }
   ],
   "source": [
    "# The result - bytestring can be decoded and printed directly as a string without using json.loads , \n",
    "# however if you pass it as an argument into the \"json-loads\" function you can create a dictionary\n",
    "print(type(hum_value.content.decode()))\n",
    "print(temp_value.content.decode())"
   ]
  },
  {
   "attachments": {},
   "cell_type": "markdown",
   "id": "9c817eb4",
   "metadata": {},
   "source": [
    "### A7"
   ]
  },
  {
   "attachments": {
    "e85b69ad-653c-4a6b-8d9a-94558d8bb272.png": {
     "image/png": "[encoded data removed]"
    }
   },
   "cell_type": "markdown",
   "id": "6216297b",
   "metadata": {},
   "source": [
    "![image.png](attachment:e85b69ad-653c-4a6b-8d9a-94558d8bb272.png)"
   ]
  },
  {
   "cell_type": "code",
   "execution_count": 66,
   "id": "45df385f",
   "metadata": {},
   "outputs": [
    {
     "name": "stdout",
     "output_type": "stream",
     "text": [
      "eklein_sensor_values.sqlite3\n",
      "INSERT INTO sensor_values VALUES (1685688916, 25.2 , 39)\n",
      "INSERT INTO sensor_values VALUES (1685688917, 25.2 , 39)\n",
      "INSERT INTO sensor_values VALUES (1685688918, 25.2 , 39)\n",
      "INSERT INTO sensor_values VALUES (1685688919, 25.2 , 39)\n",
      "INSERT INTO sensor_values VALUES (1685688920, 25.2 , 39)\n",
      "INSERT INTO sensor_values VALUES (1685688921, 25.2 , 39)\n",
      "INSERT INTO sensor_values VALUES (1685688922, 25.2 , 39)\n",
      "INSERT INTO sensor_values VALUES (1685688923, 25.2 , 39)\n",
      "INSERT INTO sensor_values VALUES (1685688924, 25.2 , 39)\n",
      "INSERT INTO sensor_values VALUES (1685688925, 25.2 , 39)\n"
     ]
    },
    {
     "data": {
      "text/html": [
       "<div>\n",
       "<style scoped>\n",
       "    .dataframe tbody tr th:only-of-type {\n",
       "        vertical-align: middle;\n",
       "    }\n",
       "\n",
       "    .dataframe tbody tr th {\n",
       "        vertical-align: top;\n",
       "    }\n",
       "\n",
       "    .dataframe thead th {\n",
       "        text-align: right;\n",
       "    }\n",
       "</style>\n",
       "<table border=\"1\" class=\"dataframe\">\n",
       "  <thead>\n",
       "    <tr style=\"text-align: right;\">\n",
       "      <th></th>\n",
       "      <th>timestamp</th>\n",
       "      <th>temperature</th>\n",
       "      <th>humidity</th>\n",
       "    </tr>\n",
       "  </thead>\n",
       "  <tbody>\n",
       "    <tr>\n",
       "      <th>0</th>\n",
       "      <td>2023-06-02 06:55:16</td>\n",
       "      <td>25.2</td>\n",
       "      <td>39</td>\n",
       "    </tr>\n",
       "    <tr>\n",
       "      <th>1</th>\n",
       "      <td>2023-06-02 06:55:17</td>\n",
       "      <td>25.2</td>\n",
       "      <td>39</td>\n",
       "    </tr>\n",
       "    <tr>\n",
       "      <th>2</th>\n",
       "      <td>2023-06-02 06:55:18</td>\n",
       "      <td>25.2</td>\n",
       "      <td>39</td>\n",
       "    </tr>\n",
       "    <tr>\n",
       "      <th>3</th>\n",
       "      <td>2023-06-02 06:55:19</td>\n",
       "      <td>25.2</td>\n",
       "      <td>39</td>\n",
       "    </tr>\n",
       "    <tr>\n",
       "      <th>4</th>\n",
       "      <td>2023-06-02 06:55:20</td>\n",
       "      <td>25.2</td>\n",
       "      <td>39</td>\n",
       "    </tr>\n",
       "    <tr>\n",
       "      <th>5</th>\n",
       "      <td>2023-06-02 06:55:21</td>\n",
       "      <td>25.2</td>\n",
       "      <td>39</td>\n",
       "    </tr>\n",
       "    <tr>\n",
       "      <th>6</th>\n",
       "      <td>2023-06-02 06:55:22</td>\n",
       "      <td>25.2</td>\n",
       "      <td>39</td>\n",
       "    </tr>\n",
       "    <tr>\n",
       "      <th>7</th>\n",
       "      <td>2023-06-02 06:55:23</td>\n",
       "      <td>25.2</td>\n",
       "      <td>39</td>\n",
       "    </tr>\n",
       "    <tr>\n",
       "      <th>8</th>\n",
       "      <td>2023-06-02 06:55:24</td>\n",
       "      <td>25.2</td>\n",
       "      <td>39</td>\n",
       "    </tr>\n",
       "    <tr>\n",
       "      <th>9</th>\n",
       "      <td>2023-06-02 06:55:25</td>\n",
       "      <td>25.2</td>\n",
       "      <td>39</td>\n",
       "    </tr>\n",
       "  </tbody>\n",
       "</table>\n",
       "</div>"
      ],
      "text/plain": [
       "            timestamp  temperature  humidity\n",
       "0 2023-06-02 06:55:16         25.2        39\n",
       "1 2023-06-02 06:55:17         25.2        39\n",
       "2 2023-06-02 06:55:18         25.2        39\n",
       "3 2023-06-02 06:55:19         25.2        39\n",
       "4 2023-06-02 06:55:20         25.2        39\n",
       "5 2023-06-02 06:55:21         25.2        39\n",
       "6 2023-06-02 06:55:22         25.2        39\n",
       "7 2023-06-02 06:55:23         25.2        39\n",
       "8 2023-06-02 06:55:24         25.2        39\n",
       "9 2023-06-02 06:55:25         25.2        39"
      ]
     },
     "execution_count": 66,
     "metadata": {},
     "output_type": "execute_result"
    }
   ],
   "source": [
    "import pandas as pd\n",
    "import random\n",
    "import time\n",
    "import sqlite3\n",
    "\n",
    "my_values_df = pd.DataFrame(data=None,columns=['timestamp','temperature','humidity', 'uv', 'luminance'])\n",
    "#cnx = sqlite3.connect(':memory:') alternative in memory database\n",
    "sqlite_db = 'eklein_sensor_values.sqlite3' # String for creating DB in specified directory\n",
    "print(sqlite_db)\n",
    "\n",
    "conn=sqlite3.connect(sqlite_db) # Creates sqlite Database - check in your file explorer\n",
    "cur=conn.cursor()\n",
    "cur.execute('''DROP TABLE IF EXISTS sensor_values''')\n",
    "cur.execute('''CREATE TABLE sensor_values(timestamp NUMERIC,temperature NUMERIC , humidity NUMERIC, uv NUMERIC, luminance NUMERIC);''')\n",
    "\n",
    "for my_counter in range(10):\n",
    "    time.sleep(1)\n",
    "    my_timestamp = round(time.time())\n",
    "    act_temp = temp_dict['state'].strip(\"°C\")\n",
    "    act_hum = hum_dict['state']\n",
    "    act_uv = uv_dict['state']\n",
    "    act_lum = lum_dict['state']\n",
    "    input_values = [my_timestamp,act_temp,act_hum, act_uv, act_lum]\n",
    "    my_values_df.loc[my_counter]=input_values\n",
    "# CREATE INSERT STATEMENT\n",
    "    execution_string = f\"INSERT INTO sensor_values VALUES ({my_timestamp}, {act_temp}, {act_hum}, {act_uv}, {act_lum})\"\n",
    "    print(execution_string)\n",
    "    cur.execute(execution_string)\n",
    "    conn.commit()\n",
    "\n",
    "filename = \"eklein_sensor_values\"\n",
    "with open(filename, 'w+') as jsonfile:\n",
    "    my_values_df.to_json(jsonfile)\n",
    "pd.read_json(filename)"
   ]
  },
  {
   "cell_type": "code",
   "execution_count": null,
   "id": "6e9ec941",
   "metadata": {},
   "outputs": [],
   "source": [
    "# fetch values directly from db cursor\n",
    "cur.execute(\"SELECT * FROM sensor_values\")\n",
    "print(cur.fetchall())"
   ]
  },
  {
   "cell_type": "code",
   "execution_count": null,
   "id": "ec74f301",
   "metadata": {},
   "outputs": [],
   "source": [
    "# retrieve values via pd library from local database\n",
    "pd.read_sql(\"SELECT * FROM sensor_values;\", conn)"
   ]
  },
  {
   "cell_type": "code",
   "execution_count": null,
   "id": "6a80f315",
   "metadata": {},
   "outputs": [],
   "source": [
    "import matplotlib.pyplot as plt\n",
    "import datetime\n",
    "plot_df=pd.read_sql(\"SELECT * FROM sensor_values;\", conn)\n",
    "\n",
    "timestamps=[]\n",
    "for i,row in plot_df.iterrows():\n",
    "   print(row)\n",
    "   first_time= plot_df.iloc[0]['timestamp']\n",
    "   second_time= plot_df.iloc[i]['timestamp']  \n",
    "   duration =  second_time - first_time\n",
    "   calc_seconds=str(datetime.timedelta(seconds=duration))\n",
    "   print(calc_seconds)\n",
    "   timestamps.append(calc_seconds)\n",
    "\n",
    "\n",
    "# Create the chart\n",
    "\n",
    "plt.figure(figsize=(10, 6))\n",
    "plt.plot(timestamps,plot_df['temperature'], 'b', label='Temperature')\n",
    "plt.plot(timestamps,plot_df['humidity'], 'r', label='Humidity')\n",
    "\n",
    "plt.xlabel('Unix Time')\n",
    "plt.ylabel('Value')\n",
    "plt.title('Unix Time vs Temperature & Humidity')\n",
    "plt.legend(loc='upper right')\n",
    "\n",
    "plt.show()\n"
   ]
  }
 ],
 "metadata": {
  "kernelspec": {
   "display_name": "Python 3 (ipykernel)",
   "language": "python",
   "name": "python3"
  },
  "language_info": {
   "codemirror_mode": {
    "name": "ipython",
    "version": 3
   },
   "file_extension": ".py",
   "mimetype": "text/x-python",
   "name": "python",
   "nbconvert_exporter": "python",
   "pygments_lexer": "ipython3",
   "version": "3.9.12"
  }
 },
 "nbformat": 4,
 "nbformat_minor": 5
}
